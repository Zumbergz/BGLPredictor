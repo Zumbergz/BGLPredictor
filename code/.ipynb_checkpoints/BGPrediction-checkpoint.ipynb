{
 "cells": [
  {
   "cell_type": "code",
   "execution_count": 2,
   "metadata": {},
   "outputs": [],
   "source": [
    "import pandas as pd\n",
    "import numpy as np\n",
    "import tensorflow as tf"
   ]
  },
  {
   "cell_type": "code",
   "execution_count": 7,
   "metadata": {},
   "outputs": [],
   "source": [
    "datapath = '../../OhioT1DM/data/processed/'\n",
    "train_563 = pd.read_csv(datapath + 'train_563.csv')\n",
    "train_588 = pd.read_csv(datapath + 'train_588.csv')\n",
    "train_570 = pd.read_csv(datapath + 'train_570.csv')\n",
    "\n",
    "test_563 = pd.read_csv(datapath + 'test_563.csv')\n",
    "test_588 = pd.read_csv(datapath + 'test_588.csv')\n",
    "test_570 = pd.read_csv(datapath + 'test_570.csv')"
   ]
  },
  {
   "cell_type": "code",
   "execution_count": null,
   "metadata": {},
   "outputs": [],
   "source": []
  }
 ],
 "metadata": {
  "kernelspec": {
   "display_name": "Python 3",
   "language": "python",
   "name": "python3"
  },
  "language_info": {
   "codemirror_mode": {
    "name": "ipython",
    "version": 3
   },
   "file_extension": ".py",
   "mimetype": "text/x-python",
   "name": "python",
   "nbconvert_exporter": "python",
   "pygments_lexer": "ipython3",
   "version": "3.8.3"
  }
 },
 "nbformat": 4,
 "nbformat_minor": 4
}
